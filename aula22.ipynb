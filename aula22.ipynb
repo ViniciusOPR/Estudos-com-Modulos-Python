{
 "cells": [
  {
   "cell_type": "markdown",
   "id": "205c1c37-5adc-48ee-802f-b03c75bd125e",
   "metadata": {},
   "source": [
    "# Essa linha cria uma variável a"
   ]
  },
  {
   "cell_type": "code",
   "execution_count": 4,
   "id": "b1f3be24-77ae-4560-94b3-fcde84373c5e",
   "metadata": {},
   "outputs": [
    {
     "data": {
      "text/plain": [
       "2"
      ]
     },
     "execution_count": 4,
     "metadata": {},
     "output_type": "execute_result"
    }
   ],
   "source": [
    "a = 2\n",
    "a"
   ]
  },
  {
   "cell_type": "markdown",
   "id": "d87209f2-3112-412a-8339-cda8ccc5a590",
   "metadata": {},
   "source": [
    "# Essa linha tem o valor da variável `a` em dobro"
   ]
  },
  {
   "cell_type": "code",
   "execution_count": 5,
   "id": "52aec7d7-b505-46d9-86d7-dbf35dc057be",
   "metadata": {},
   "outputs": [
    {
     "data": {
      "text/plain": [
       "4"
      ]
     },
     "execution_count": 5,
     "metadata": {},
     "output_type": "execute_result"
    }
   ],
   "source": [
    "b = a * 2\n",
    "b"
   ]
  },
  {
   "cell_type": "markdown",
   "id": "d00dda08-7aa1-45d2-8cc8-ba1f808ae29f",
   "metadata": {},
   "source": [
    "# Essa linha mostra o valor de `a` + `b`"
   ]
  },
  {
   "cell_type": "code",
   "execution_count": 6,
   "id": "b921fa54-7a22-4ca9-a5e9-049d80499401",
   "metadata": {},
   "outputs": [
    {
     "data": {
      "text/plain": [
       "6"
      ]
     },
     "execution_count": 6,
     "metadata": {},
     "output_type": "execute_result"
    }
   ],
   "source": [
    "a + b"
   ]
  }
 ],
 "metadata": {
  "kernelspec": {
   "display_name": "Python 3 (ipykernel)",
   "language": "python",
   "name": "python3"
  },
  "language_info": {
   "codemirror_mode": {
    "name": "ipython",
    "version": 3
   },
   "file_extension": ".py",
   "mimetype": "text/x-python",
   "name": "python",
   "nbconvert_exporter": "python",
   "pygments_lexer": "ipython3",
   "version": "3.12.0"
  }
 },
 "nbformat": 4,
 "nbformat_minor": 5
}
